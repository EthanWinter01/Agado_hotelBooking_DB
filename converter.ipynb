{
 "cells": [
  {
   "cell_type": "code",
   "execution_count": null,
   "metadata": {},
   "outputs": [],
   "source": [
    "import json\n",
    "import re\n",
    "from bson import ObjectId  # Simulating MongoDB's ObjectId\n",
    "\n",
    "def hash_password(password):\n",
    "    return \"hashed_\" + password  # Simulated hashing function\n",
    "\n",
    "def parse_sql_to_json(sql, user_id):\n",
    "    pattern = r\"CALL insert_user\\((.*?)\\);\"\n",
    "    match = re.search(pattern, sql)\n",
    "    \n",
    "    if not match:\n",
    "        raise ValueError(\"Invalid SQL format\")\n",
    "    \n",
    "    values = [v.strip().strip(\"'\") if v.strip() != \"NULL\" else None for v in match.group(1).split(\",\")]\n",
    "    \n",
    "    device_type, officer_id, name, password, phone, email, reg_date, birth_date, user_type = values\n",
    "    \n",
    "    json_data = {\n",
    "        \"_id\": str(ObjectId()),\n",
    "        \"user_type\": user_type.replace(\"registerred\", \"registered\").replace(\"unregisterred\", \"unregistered\"),\n",
    "        \"device_type\": device_type,\n",
    "    }\n",
    "    \n",
    "    if user_type == \"registerred_user\" or user_type == \"admin\":\n",
    "        json_data[\"user_details\"] = {\n",
    "            \"name\": name,\n",
    "            \"email\": email,\n",
    "            \"password\": hash_password(password) if password else None,\n",
    "            \"telephone_number\": phone,\n",
    "            \"register_date\": reg_date,\n",
    "            \"birth_date\": birth_date\n",
    "        }\n",
    "    \n",
    "    if user_type == \"admin\":\n",
    "        json_data[\"admin_info\"] = {\"officerID\": officer_id}\n",
    "    \n",
    "    return json.dumps(json_data, indent=2)\n",
    "\n",
    "# Example usage\n",
    "sql1 = \"CALL insert_user('Android', NULL, 'Kwanjai Chuchai', 'regpass456', '1167890123', 'kwanjai.chuchai@example.com', CAST(NOW() AS TIMESTAMP), '1993-01-19', 'registerred_user');\"\n",
    "sql2 = \"CALL insert_user('iOS', NULL, NULL, NULL, NULL, NULL, NULL, NULL, 'unregisterred_user');\"\n",
    "sql3 = \"CALL insert_user('iOS', 113, 'Sittipong Wongsakul', 'password123', '1090123456', 'sittipong.wongsakul@example.com', CAST(NOW() AS TIMESTAMP), '1987-09-11', 'admin');\"\n",
    "\n",
    "print(parse_sql_to_json(sql1, \"user_id_1\"))\n",
    "print(parse_sql_to_json(sql2, \"user_id_2\"))\n",
    "print(parse_sql_to_json(sql3, \"user_id_3\"))"
   ]
  }
 ],
 "metadata": {
  "kernelspec": {
   "display_name": "CUQC",
   "language": "python",
   "name": "python3"
  },
  "language_info": {
   "name": "python",
   "version": "3.12.5"
  }
 },
 "nbformat": 4,
 "nbformat_minor": 2
}
